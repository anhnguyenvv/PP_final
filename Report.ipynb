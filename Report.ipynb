{
  "nbformat": 4,
  "nbformat_minor": 0,
  "metadata": {
    "colab": {
      "provenance": [],
      "gpuType": "T4",
      "include_colab_link": true
    },
    "kernelspec": {
      "name": "python3",
      "display_name": "Python 3"
    },
    "language_info": {
      "name": "python"
    },
    "accelerator": "GPU"
  },
  "cells": [
    {
      "cell_type": "markdown",
      "metadata": {
        "id": "view-in-github",
        "colab_type": "text"
      },
      "source": [
        "<a href=\"https://colab.research.google.com/github/anhnguyenvv/PP_final/blob/main/Report.ipynb\" target=\"_parent\"><img src=\"https://colab.research.google.com/assets/colab-badge.svg\" alt=\"Open In Colab\"/></a>"
      ]
    },
    {
      "cell_type": "markdown",
      "source": [
        "##Report\n",
        "**FINAL PROJECT** \\\n",
        "Môn học : Lập trình song song \\\n",
        "Lớp : CQ2021/21 \\\n",
        "Nhóm: 10\n"
      ],
      "metadata": {
        "id": "aJCFUWWKZNFk"
      }
    },
    {
      "cell_type": "markdown",
      "source": [
        "Thông tin thành viên \\\n",
        "\n",
        "| MSSV | Họ và tên\n",
        "-------|-------\n",
        "| 20120576 | Nguyễn Bửu Thạch\n",
        "| 21120198 | Nguyễn Thị Lan Anh\n",
        "| 21120597 | Mai Huy Vũ"
      ],
      "metadata": {
        "id": "Ccud1t5NZNsd"
      }
    },
    {
      "cell_type": "markdown",
      "source": [
        "I. Giới thiệu:\n",
        "1. Cấu trúc cơ bản của Artificial Neural Network (ANN): \\\n",
        "Mạng Nơ-ron Nhân tạo (ANN) là một mô hình học máy lấy cảm hứng từ cách hoạt động của hệ thần kinh sinh học. ANN bao gồm các lớp nơ-ron kết nối với nhau, trong đó: \\\n",
        " *   Lớp đầu vào (Input Layer): Nhận dữ liệu đầu vào từ tập dữ liệu.\n",
        " *   Lớp ẩn (Hidden Layer): Xử lý thông tin từ lớp đầu vào và truyền đến các lớp tiếp theo.\n",
        " *   Lớp đầu ra (Output Layer): Đưa ra kết quả cuối cùng, thường là một giá trị hoặc một phân loại. \\\n",
        "\n",
        " Trong bài toán này, cấu trúc ANN bao gồm:\n",
        " *   1 lớp đầu vào: Nhận dữ liệu hình ảnh từ Fashion-MNIST với kích thước 28x28 (784 đặc trưng).\n",
        " *   2 lớp ẩn: Sử dụng hàm kích hoạt ReLU để tăng độ phi tuyến tính, giúp mạng học được các đặc trưng phức tạp.\n",
        " *   1 lớp đầu ra: Sử dụng hàm kích hoạt Softmax để chuyển đổi đầu ra thành xác suất, mỗi giá trị biểu thị xác suất thuộc về một trong 10 lớp (0-9).\n",
        "\n",
        "2. Các hàm kích hoạt trong mạng ANN: \\\n",
        "a. Hàm Relu: \\\n",
        "Công thức: \\\n",
        "$f(x)=max(0,x)$ \\\n",
        "Đặc điểm: \\\n",
        " *   Thay thế các giá trị âm bằng 0 \\\n",
        " *   Tăng tốc độ học và giảm hiện tượng vanishing gradient. \\\n",
        "\n",
        " Ứng dụng: Sử dụng cho các lớp ẩn trong ANN \\\n",
        "b. Hàm Softmax: \\\n",
        "Công thức: \\\n",
        "#$\\frac{e^{x_i}}{\\sum_{j=1}^{n} e^{x_j}}$\n",
        "Với $x_i$ là đầu ra của nơ-ron thứ i, n là số lượng nơ-ron ở lớp đầu ra.\\\n",
        "Đặc điểm: \\\n",
        " *   Chuyển đổi đầu ra của mạng thành xác suất. \\\n",
        " *   Tổng xác suất của các lớp luôn bằng 1. \\\n",
        "\n",
        " Ứng dụng: Sử dụng cho lớp đầu ra trong ANN \\\n",
        "\n",
        "II. Tập Dataset: \\\n",
        "*   Fashion-MNIST là một tập dữ liệu gồm 70,000 ảnh grayscale (ảnh mức xám) của các sản phẩm thời trang.\n",
        "*   Tập huấn luyện: 60.000 hình ảnh.\n",
        "*   Tập kiểm tra: 10.000 hình ảnh.\n",
        "*   Kích thước: 28x28 điểm ảnh, mỗi điểm ảnh có giá trị từ 0-255 (thang màu xám).\n",
        "*  Nhãn (Label): Gồm 10 lớp, được đánh số từ 0 đến 9, tương ứng với các loại thời trang\n",
        " *  0: Áo thun.\n",
        " *  1: Quần dài.\n",
        " *  2: Áo len.\n",
        " *  3: Váy.\n",
        " *  4: Áo khoác.\n",
        " *  5: Dép.\n",
        " *  6: Áo sơ mi.\n",
        " *  7: Giày thể thao.\n",
        " *  8: Túi xách.\n",
        " *  9: Giày bốt.\n",
        "\n",
        "Các tệp trong tập dữ liệu: \\\n",
        "*   train-images-idx3-ubyte:\\\n",
        "Chứa hình ảnh của tập huấn luyện.\n",
        " *  Số lượng hình ảnh: 60,000 ảnh.\n",
        " *  Kích thước mỗi hình ảnh: 28x28 pixel.\n",
        "*   train-labels-idx1-ubyte: \\\n",
        "Chứa nhãn (label) của các hình ảnh trong tập huấn luyện.\n",
        " *  Số lượng nhãn: 60,000 nhãn, tương ứng với 60,000 hình ảnh trong tập huấn luyện.\n",
        " *  Mỗi nhãn là một giá trị từ 0 đến 9, biểu diễn 10 loại thời trang.\n",
        "*   t10k-images-idx3-ubyte:\\\n",
        "Chứa hình ảnh của tập kiểm tra.\n",
        " *  Số lượng hình ảnh: 10,000 ảnh.\n",
        " *  Kích thước mỗi hình ảnh: 28x28 pixel.\n",
        "*   t10k-labels-idx1-ubyte:\\\n",
        "Chứa nhãn (label) của các hình ảnh trong tập kiểm tra.\n",
        " *  Số lượng nhãn: 10,000 nhãn, tương ứng với 10,000 hình ảnh trong tập kiểm tra.  \n"
      ],
      "metadata": {
        "id": "6iIB4HvDeYnj"
      }
    },
    {
      "cell_type": "code",
      "execution_count": null,
      "metadata": {
        "id": "6z9fFSzotGMj"
      },
      "outputs": [],
      "source": [
        "import numpy as np\n",
        "import matplotlib.pyplot as plt\n",
        "import datetime\n",
        "import tensorflow as tf\n",
        "import gdown\n"
      ]
    },
    {
      "cell_type": "code",
      "source": [],
      "metadata": {
        "id": "Kk87P6Uw-mPO"
      },
      "execution_count": null,
      "outputs": []
    },
    {
      "cell_type": "markdown",
      "source": [
        "\n",
        "III. Cài đặt chương trình: \\\n",
        "Bước 1: Tải và tiền xử lý dữ liệu\n",
        "*   Tải dữ liệu Fashion-MNIST:\n",
        " *   Tải dữ liệu huấn luyện và kiểm tra từ tập dữ liệu Fashion-MNIST.\n",
        " *   Tách dữ liệu thành ảnh (28x28) và nhãn.\n",
        "*  Tiền xử lý dữ liệu:\n",
        " *   Chuẩn hóa ảnh từ giá trị pixel [0-255] về [0-1].\n",
        " *   Làm phẳng ảnh từ kích thước (28, 28) thành (784,).\n",
        " *   Chuyển nhãn thành dạng one-hot encoding để phục vụ mô hình ANN.\n",
        "*  Lưu dữ liệu nhị phân:\n",
        " *   Ghi các tệp dữ liệu huấn luyện và kiểm tra (ảnh và nhãn) vào file nhị phân (.bin) để chuẩn bị cho việc huấn luyện trên GPU. \\\n",
        "\n",
        "\n",
        "\n",
        "\n",
        "\n",
        "\n"
      ],
      "metadata": {
        "id": "Mvl-y_Sw7CeC"
      }
    },
    {
      "cell_type": "code",
      "execution_count": null,
      "metadata": {
        "id": "VKlKC0QVy16W",
        "colab": {
          "base_uri": "https://localhost:8080/"
        },
        "outputId": "6c0729f3-0d15-4774-ddf4-5a6bd34d68d2"
      },
      "outputs": [
        {
          "output_type": "stream",
          "name": "stdout",
          "text": [
            "Downloading data from https://storage.googleapis.com/tensorflow/tf-keras-datasets/train-labels-idx1-ubyte.gz\n",
            "\u001b[1m29515/29515\u001b[0m \u001b[32m━━━━━━━━━━━━━━━━━━━━\u001b[0m\u001b[37m\u001b[0m \u001b[1m0s\u001b[0m 0us/step\n",
            "Downloading data from https://storage.googleapis.com/tensorflow/tf-keras-datasets/train-images-idx3-ubyte.gz\n",
            "\u001b[1m26421880/26421880\u001b[0m \u001b[32m━━━━━━━━━━━━━━━━━━━━\u001b[0m\u001b[37m\u001b[0m \u001b[1m0s\u001b[0m 0us/step\n",
            "Downloading data from https://storage.googleapis.com/tensorflow/tf-keras-datasets/t10k-labels-idx1-ubyte.gz\n",
            "\u001b[1m5148/5148\u001b[0m \u001b[32m━━━━━━━━━━━━━━━━━━━━\u001b[0m\u001b[37m\u001b[0m \u001b[1m0s\u001b[0m 0us/step\n",
            "Downloading data from https://storage.googleapis.com/tensorflow/tf-keras-datasets/t10k-images-idx3-ubyte.gz\n",
            "\u001b[1m4422102/4422102\u001b[0m \u001b[32m━━━━━━━━━━━━━━━━━━━━\u001b[0m\u001b[37m\u001b[0m \u001b[1m0s\u001b[0m 0us/step\n"
          ]
        }
      ],
      "source": [
        "mnist = tf.keras.datasets.fashion_mnist\n",
        "(train_img, train_label), (test_img, test_label) = mnist.load_data()"
      ]
    },
    {
      "cell_type": "code",
      "execution_count": null,
      "metadata": {
        "id": "nTcuJ_Op2JnF",
        "colab": {
          "base_uri": "https://localhost:8080/"
        },
        "outputId": "e4c6ccc6-dac7-4caa-ee07-93ad28b061bb"
      },
      "outputs": [
        {
          "output_type": "stream",
          "name": "stdout",
          "text": [
            "Train images shape: (60000, 28, 28)\n",
            "Train labels shape: (60000,)\n"
          ]
        }
      ],
      "source": [
        "# Kiểm tra kích thước của dữ liệu\n",
        "print(\"Train images shape:\", train_img.shape)  # (60000, 28, 28)\n",
        "print(\"Train labels shape:\", train_label.shape)  # (60000,)"
      ]
    },
    {
      "cell_type": "code",
      "execution_count": null,
      "metadata": {
        "id": "4teIwdWW2SbN",
        "colab": {
          "base_uri": "https://localhost:8080/"
        },
        "outputId": "6704e2c8-cb20-45ed-96e7-e71537167e71"
      },
      "outputs": [
        {
          "output_type": "stream",
          "name": "stdout",
          "text": [
            "Flattened train images shape: (60000, 784)\n",
            "Flattened test images shape: (10000, 784)\n",
            "Train labels shape: (60000,)\n",
            "Test labels shape: (10000,)\n"
          ]
        }
      ],
      "source": [
        "\n",
        "# Làm phẳng dữ liệu từ (28, 28) thành (784,)\n",
        "train_img = np.array(train_img.reshape(-1, 28 * 28)/255.0, dtype=np.float32)\n",
        "test_img = np.array(test_img.reshape(-1, 28 * 28)/255.0, dtype=np.float32)\n",
        "\n",
        "# Kiểm tra kích thước sau khi làm phẳng\n",
        "print(\"Flattened train images shape:\", train_img.shape)  # (60000, 784)\n",
        "print(\"Flattened test images shape:\", test_img.shape)    # (10000, 784)\n",
        "train_label = np.array(train_label, dtype=np.int32)\n",
        "test_label = np.array(test_label, dtype=np.int32)\n",
        "print(\"Train labels shape:\", train_label.shape)  # (60000, 10)\n",
        "print(\"Test labels shape:\", test_label.shape)    # (10000, 10)\n"
      ]
    },
    {
      "cell_type": "code",
      "execution_count": null,
      "metadata": {
        "id": "MbzsI8oIF2-B",
        "colab": {
          "base_uri": "https://localhost:8080/"
        },
        "outputId": "98365c61-4cb0-4483-f2ec-3c0b1947fcc9"
      },
      "outputs": [
        {
          "output_type": "stream",
          "name": "stdout",
          "text": [
            "Data saved successfully!\n"
          ]
        }
      ],
      "source": [
        "# Lưu tập dữ liệu huấn luyện và nhãn thành tệp nhị phân\n",
        "\n",
        "train_img.tofile(\"x_train.bin\")\n",
        "train_label.tofile( \"y_train.bin\")\n",
        "\n",
        "# Lưu tập dữ liệu kiểm tra và nhãn thành tệp nhị phân\n",
        "test_img.tofile(\"x_test.bin\")\n",
        "test_label.tofile(\"y_test.bin\")\n",
        "\n",
        "print(\"Data saved successfully!\")"
      ]
    },
    {
      "cell_type": "markdown",
      "source": [
        "\n",
        "## Cài đặt và kiểm tra ANN trên CPU\n",
        "*  Viết code để đọc dữ liệu nhị phân từ file.\n",
        "1. Tạo mô hình ANN cơ bản:\n",
        "*  Xây dựng mô hình ANN trên CPU gồm:\n",
        " *  Lớp đầu vào: Làm phẳng ảnh từ 784 đầu vào.\n",
        " *  2 lớp ẩn: Kích hoạt bằng hàm ReLU.\n",
        " *  Lớp đầu ra: Kích hoạt bằng hàm Softmax (10 nhãn).\n",
        "2. Cài đặt mô hình:\n",
        "*  Compile mô hình với:\n",
        " *  init: He Initialization\n",
        " *  Loss function: cross-entropy.\n",
        " *  Metric: accuracy.\n",
        "*  Huấn luyện mô hình trên CPU:\n",
        " *  Huấn luyện mô hình với tập dữ liệu Fashion-MNIST.\n",
        " *  Đánh giá hiệu năng mô hình trên tập kiểm tra.\n",
        "*  Kiểm tra tính đúng đắn:\n",
        " *  Xác nhận mô hình hoạt động tốt trước khi chuyển sang GPU\n"
      ],
      "metadata": {
        "id": "JWP3LoS7-elw"
      }
    },
    {
      "cell_type": "code",
      "source": [
        "#tải file code xuông nếu cần\n",
        "# ID của tệp Google Drive\n",
        "file_ids = [\n",
        "    \"1QM7e-rngKLvQWHBB2Tx6Ib9q1mf9aS6z\",\n",
        "    \"19gx53eEphbOCCHI8-37wPNcNSrTVTP0l\"\n",
        "]\n",
        "\n",
        "# Đường dẫn lưu trữ tệp tải về\n",
        "output_files = [\"network_host.cu\", \"network_gpu.cu\"]  # Đổi tên file theo ý muốn\n",
        "\n",
        "# Tải xuống từng tệp\n",
        "for file_id, output in zip(file_ids, output_files):\n",
        "    gdown.download(f\"https://drive.google.com/uc?id={file_id}\", output, quiet=False)\n",
        "\n",
        "print(\"Tải xuống hoàn tất!\")"
      ],
      "metadata": {
        "id": "m9wxwk-s_gbf",
        "colab": {
          "base_uri": "https://localhost:8080/"
        },
        "outputId": "e094b9c1-cd1f-4d4f-cfdb-b5a0bd9d3597"
      },
      "execution_count": null,
      "outputs": [
        {
          "output_type": "stream",
          "name": "stderr",
          "text": [
            "Downloading...\n",
            "From: https://drive.google.com/uc?id=1QM7e-rngKLvQWHBB2Tx6Ib9q1mf9aS6z\n",
            "To: /content/network_host.cu\n",
            "100%|██████████| 16.5k/16.5k [00:00<00:00, 38.9MB/s]\n",
            "Downloading...\n",
            "From: https://drive.google.com/uc?id=19gx53eEphbOCCHI8-37wPNcNSrTVTP0l\n",
            "To: /content/network_gpu.cu\n",
            "100%|██████████| 21.6k/21.6k [00:00<00:00, 47.1MB/s]"
          ]
        },
        {
          "output_type": "stream",
          "name": "stdout",
          "text": [
            "Tải xuống hoàn tất!\n"
          ]
        },
        {
          "output_type": "stream",
          "name": "stderr",
          "text": [
            "\n"
          ]
        }
      ]
    },
    {
      "cell_type": "code",
      "execution_count": null,
      "metadata": {
        "id": "g0bhQ8Zwi8Ub"
      },
      "outputs": [],
      "source": [
        "!nvcc  network_host.cu -o host"
      ]
    },
    {
      "cell_type": "code",
      "execution_count": null,
      "metadata": {
        "id": "DvaERzCNj8Jv",
        "colab": {
          "base_uri": "https://localhost:8080/"
        },
        "outputId": "7af6c023-01b0-4ed5-e20b-b8f42fa55e86"
      },
      "outputs": [
        {
          "output_type": "stream",
          "name": "stdout",
          "text": [
            "Epoch 1/10 completed, Loss: 5.1229, Accuracy: 54.07%\n",
            "    Layer 1 time: 9.676205 seconds\n",
            "    Layer 2 time: 1.489592 seconds\n",
            "    Output layer time: 0.108242 seconds\n",
            "Epoch 2/10 completed, Loss: 2.5797, Accuracy: 76.80%\n",
            "    Layer 1 time: 9.629796 seconds\n",
            "    Layer 2 time: 1.483591 seconds\n",
            "    Output layer time: 0.107820 seconds\n",
            "Epoch 3/10 completed, Loss: 2.0764, Accuracy: 81.12%\n",
            "    Layer 1 time: 9.672908 seconds\n",
            "    Layer 2 time: 1.488040 seconds\n",
            "    Output layer time: 0.107746 seconds\n",
            "Epoch 4/10 completed, Loss: 1.8460, Accuracy: 82.84%\n",
            "    Layer 1 time: 9.685354 seconds\n",
            "    Layer 2 time: 1.489176 seconds\n",
            "    Output layer time: 0.108249 seconds\n",
            "Epoch 5/10 completed, Loss: 1.6953, Accuracy: 84.42%\n",
            "    Layer 1 time: 9.687778 seconds\n",
            "    Layer 2 time: 1.489326 seconds\n",
            "    Output layer time: 0.107950 seconds\n",
            "Epoch 6/10 completed, Loss: 1.5552, Accuracy: 85.30%\n",
            "    Layer 1 time: 9.680075 seconds\n",
            "    Layer 2 time: 1.487736 seconds\n",
            "    Output layer time: 0.107905 seconds\n",
            "Epoch 7/10 completed, Loss: 1.4387, Accuracy: 86.23%\n",
            "    Layer 1 time: 9.602427 seconds\n",
            "    Layer 2 time: 1.477955 seconds\n",
            "    Output layer time: 0.107435 seconds\n",
            "Epoch 8/10 completed, Loss: 1.3638, Accuracy: 86.75%\n",
            "    Layer 1 time: 9.645824 seconds\n",
            "    Layer 2 time: 1.486174 seconds\n",
            "    Output layer time: 0.107944 seconds\n",
            "Epoch 9/10 completed, Loss: 1.3081, Accuracy: 87.29%\n",
            "    Layer 1 time: 9.592520 seconds\n",
            "    Layer 2 time: 1.476922 seconds\n",
            "    Output layer time: 0.107037 seconds\n",
            "Epoch 10/10 completed, Loss: 1.2310, Accuracy: 88.02%\n",
            "    Layer 1 time: 9.625356 seconds\n",
            "    Layer 2 time: 1.484529 seconds\n",
            "    Output layer time: 0.107851 seconds\n",
            "Test Accuracy: 84.90%\n"
          ]
        }
      ],
      "source": [
        "!./host"
      ]
    },
    {
      "cell_type": "markdown",
      "source": [
        "## Chuyển dữ liệu và cài đặt trên GPU\n",
        "1. Cài đặt mã nguồn CUDA:\n",
        "*cài đặt mã kernel cơ bản.\n",
        "*  Tích hợp các kỹ thuật tối ưu hóa như:\n",
        " *  Unrolling input matrix.\n",
        " *  Shared memory matrix multiplication.\n",
        " *  Kernel fusion. \\\n"
      ],
      "metadata": {
        "id": "w5Ts57_776Pg"
      }
    },
    {
      "cell_type": "markdown",
      "source": [
        "2. Huấn luyện mô hình ANN trên GPU: \\\n",
        "Triển khai mô hình ANN trên GPU bằng CUDA:\n",
        "*  Áp dụng hàm kích hoạt ReLU ở các lớp ẩn.\n",
        "*  Áp dụng hàm Softmax ở lớp đầu ra.\n",
        "*  Thực hiện tối ưu hóa gradient descent để cập nhật trọng số. \\"
      ],
      "metadata": {
        "id": "RzH_reoL7xAo"
      }
    },
    {
      "cell_type": "markdown",
      "source": [],
      "metadata": {
        "id": "P-MaFSTWOvCd"
      }
    },
    {
      "cell_type": "code",
      "execution_count": 11,
      "metadata": {
        "id": "MrqgLc0dZHbr"
      },
      "outputs": [],
      "source": [
        "!nvcc  network_gpu.cu -o gpu"
      ]
    },
    {
      "cell_type": "code",
      "execution_count": 12,
      "metadata": {
        "id": "W2f6EPKZZQd4",
        "colab": {
          "base_uri": "https://localhost:8080/"
        },
        "outputId": "e91b3f40-edfa-4a17-d5ca-c8b1812c5df2"
      },
      "outputs": [
        {
          "output_type": "stream",
          "name": "stdout",
          "text": [
            "Error: network_gpu.cu:100, code: 35, reason: CUDA driver version is insufficient for CUDA runtime version\n"
          ]
        }
      ],
      "source": [
        "!./gpu"
      ]
    },
    {
      "cell_type": "markdown",
      "source": [
        "So sánh hiệu năng\n",
        "1. Đo thời gian thực thi:\n",
        "*  Đo thời gian đầu ra của mỗi lớp trên CPU và GPU.\n",
        "*  So sánh sự cải thiện hiệu năng giữa CPU và GPU.\n",
        "2. Đánh giá kết quả:\n",
        "*  So sánh độ chính xác và tổn thất (loss) giữa CPU và GPU để đảm bảo mô hình trên GPU hoạt động chính xác."
      ],
      "metadata": {
        "id": "AmOcY1E67qBq"
      }
    },
    {
      "cell_type": "markdown",
      "source": [
        "\n",
        "## III. Các tối ưu hoá mà nhóm đã thực hiện:"
      ],
      "metadata": {
        "id": "S-iiQhvH7XbY"
      }
    },
    {
      "cell_type": "markdown",
      "source": [],
      "metadata": {
        "id": "KJ0Er6v-rfvv"
      }
    }
  ]
}