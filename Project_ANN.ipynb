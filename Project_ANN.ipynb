{
  "nbformat": 4,
  "nbformat_minor": 0,
  "metadata": {
    "colab": {
      "provenance": [],
      "include_colab_link": true
    },
    "kernelspec": {
      "name": "python3",
      "display_name": "Python 3"
    },
    "language_info": {
      "name": "python"
    }
  },
  "cells": [
    {
      "cell_type": "markdown",
      "metadata": {
        "id": "view-in-github",
        "colab_type": "text"
      },
      "source": [
        "<a href=\"https://colab.research.google.com/github/anhnguyenvv/PP_final/blob/main/Project_ANN.ipynb\" target=\"_parent\"><img src=\"https://colab.research.google.com/assets/colab-badge.svg\" alt=\"Open In Colab\"/></a>"
      ]
    },
    {
      "cell_type": "code",
      "execution_count": 1,
      "metadata": {
        "id": "6z9fFSzotGMj",
        "colab": {
          "base_uri": "https://localhost:8080/"
        },
        "outputId": "84061d80-4d50-422b-f928-582dd427abe1"
      },
      "outputs": [
        {
          "output_type": "stream",
          "name": "stdout",
          "text": [
            "2.17.1\n"
          ]
        }
      ],
      "source": [
        "import numpy as np\n",
        "import matplotlib.pyplot as plt\n",
        "import datetime\n",
        "import tensorflow as tf\n",
        "\n",
        "print(tf.__version__)"
      ]
    },
    {
      "cell_type": "code",
      "source": [
        "mnist = tf.keras.datasets.fashion_mnist\n",
        "(train_img, train_label), (test_img, test_label) = mnist.load_data()"
      ],
      "metadata": {
        "id": "VKlKC0QVy16W",
        "colab": {
          "base_uri": "https://localhost:8080/"
        },
        "outputId": "a41e604b-8787-4094-d226-d2d138ee5b14"
      },
      "execution_count": 2,
      "outputs": [
        {
          "output_type": "stream",
          "name": "stdout",
          "text": [
            "Downloading data from https://storage.googleapis.com/tensorflow/tf-keras-datasets/train-labels-idx1-ubyte.gz\n",
            "\u001b[1m29515/29515\u001b[0m \u001b[32m━━━━━━━━━━━━━━━━━━━━\u001b[0m\u001b[37m\u001b[0m \u001b[1m0s\u001b[0m 0us/step\n",
            "Downloading data from https://storage.googleapis.com/tensorflow/tf-keras-datasets/train-images-idx3-ubyte.gz\n",
            "\u001b[1m26421880/26421880\u001b[0m \u001b[32m━━━━━━━━━━━━━━━━━━━━\u001b[0m\u001b[37m\u001b[0m \u001b[1m0s\u001b[0m 0us/step\n",
            "Downloading data from https://storage.googleapis.com/tensorflow/tf-keras-datasets/t10k-labels-idx1-ubyte.gz\n",
            "\u001b[1m5148/5148\u001b[0m \u001b[32m━━━━━━━━━━━━━━━━━━━━\u001b[0m\u001b[37m\u001b[0m \u001b[1m0s\u001b[0m 0us/step\n",
            "Downloading data from https://storage.googleapis.com/tensorflow/tf-keras-datasets/t10k-images-idx3-ubyte.gz\n",
            "\u001b[1m4422102/4422102\u001b[0m \u001b[32m━━━━━━━━━━━━━━━━━━━━\u001b[0m\u001b[37m\u001b[0m \u001b[1m0s\u001b[0m 0us/step\n"
          ]
        }
      ]
    },
    {
      "cell_type": "code",
      "source": [
        "# Kiểm tra kích thước của dữ liệu\n",
        "print(\"Train images shape:\", train_img.shape)  # (60000, 28, 28)\n",
        "print(\"Train labels shape:\", train_label.shape)  # (60000,)"
      ],
      "metadata": {
        "id": "nTcuJ_Op2JnF",
        "colab": {
          "base_uri": "https://localhost:8080/"
        },
        "outputId": "3cf026e1-f51b-4fc8-f51b-f55d73e008b3"
      },
      "execution_count": 3,
      "outputs": [
        {
          "output_type": "stream",
          "name": "stdout",
          "text": [
            "Train images shape: (60000, 28, 28)\n",
            "Train labels shape: (60000,)\n"
          ]
        }
      ]
    },
    {
      "cell_type": "code",
      "source": [
        "print(np.where(train_img[0] >0, 1, 0))\n",
        "print(train_label[0:10])"
      ],
      "metadata": {
        "id": "bUgjQVLA1NS7",
        "colab": {
          "base_uri": "https://localhost:8080/"
        },
        "outputId": "261a98b8-7735-4133-a38d-b081880232d2"
      },
      "execution_count": 4,
      "outputs": [
        {
          "output_type": "stream",
          "name": "stdout",
          "text": [
            "[[0 0 0 0 0 0 0 0 0 0 0 0 0 0 0 0 0 0 0 0 0 0 0 0 0 0 0 0]\n",
            " [0 0 0 0 0 0 0 0 0 0 0 0 0 0 0 0 0 0 0 0 0 0 0 0 0 0 0 0]\n",
            " [0 0 0 0 0 0 0 0 0 0 0 0 0 0 0 0 0 0 0 0 0 0 0 0 0 0 0 0]\n",
            " [0 0 0 0 0 0 0 0 0 0 0 0 1 0 0 1 1 0 0 1 1 0 0 0 0 1 1 0]\n",
            " [0 0 0 0 0 0 0 0 0 0 0 0 1 0 1 1 1 1 1 0 0 0 1 1 1 0 0 1]\n",
            " [0 0 0 0 0 0 0 0 0 0 0 0 1 0 1 1 1 1 1 1 1 0 0 0 0 1 1 0]\n",
            " [0 0 0 0 0 0 0 0 0 0 0 0 0 0 1 1 1 1 1 1 1 1 1 1 1 1 1 1]\n",
            " [0 0 0 0 0 0 0 0 0 0 0 1 0 1 1 1 1 1 1 1 1 1 1 1 1 1 1 1]\n",
            " [0 0 0 0 0 0 0 0 0 1 1 1 0 1 1 1 1 1 1 1 1 1 1 1 1 1 1 0]\n",
            " [0 0 0 0 0 0 0 0 0 0 0 0 0 1 1 1 1 1 1 1 1 1 1 1 1 1 1 0]\n",
            " [0 0 0 0 0 0 0 0 0 0 0 0 0 1 1 1 1 1 1 1 1 1 1 1 1 1 1 0]\n",
            " [0 0 0 0 0 0 0 0 0 1 1 0 1 1 1 1 1 1 1 1 1 1 1 1 1 1 1 1]\n",
            " [0 0 0 0 0 0 0 0 0 0 1 0 1 1 1 1 1 1 1 1 1 1 1 1 1 1 1 1]\n",
            " [0 0 0 0 0 0 0 0 0 1 0 0 1 1 1 1 1 1 1 1 1 1 1 1 1 1 1 0]\n",
            " [0 0 1 1 1 1 1 0 0 0 0 0 1 1 1 1 1 1 1 1 1 1 1 1 1 1 1 0]\n",
            " [0 1 0 0 0 0 0 0 0 1 1 1 1 1 1 1 1 1 1 1 1 1 1 1 1 1 1 0]\n",
            " [0 0 0 0 1 1 1 1 1 1 1 1 1 1 1 1 1 1 1 1 1 1 1 1 1 1 1 0]\n",
            " [0 1 1 1 1 1 1 1 1 1 1 1 1 1 1 1 1 1 1 1 1 1 1 1 1 1 1 0]\n",
            " [1 1 1 1 1 1 1 1 1 1 1 1 1 1 1 1 1 1 1 1 1 1 1 1 1 1 1 0]\n",
            " [1 1 1 1 1 1 1 1 1 1 1 1 1 1 1 1 1 1 1 1 1 1 1 1 1 1 1 1]\n",
            " [1 1 1 1 1 1 1 1 1 1 1 1 1 1 1 1 1 1 1 1 1 1 1 1 1 1 1 1]\n",
            " [1 1 1 1 1 1 1 1 1 1 1 1 1 1 1 1 1 1 1 1 1 1 1 1 1 1 1 1]\n",
            " [0 1 1 1 1 1 1 1 1 1 1 1 1 1 1 1 1 1 1 1 1 1 1 1 1 1 1 1]\n",
            " [0 0 1 1 1 1 1 1 1 1 1 1 1 1 1 1 1 1 1 1 1 1 1 1 1 1 1 0]\n",
            " [1 0 0 0 1 1 1 1 1 1 1 1 1 1 1 1 1 1 1 1 1 1 1 1 1 1 0 0]\n",
            " [0 0 0 0 0 0 0 1 1 1 1 1 1 0 0 0 0 0 0 0 0 0 0 0 0 0 0 0]\n",
            " [0 0 0 0 0 0 0 0 0 0 0 0 0 0 0 0 0 0 0 0 0 0 0 0 0 0 0 0]\n",
            " [0 0 0 0 0 0 0 0 0 0 0 0 0 0 0 0 0 0 0 0 0 0 0 0 0 0 0 0]]\n",
            "[9 0 0 3 0 2 7 2 5 5]\n"
          ]
        }
      ]
    },
    {
      "cell_type": "code",
      "source": [
        "\n",
        "# Làm phẳng dữ liệu từ (28, 28) thành (784,)\n",
        "train_img = np.array(train_img.reshape(-1, 28 * 28)/255.0, dtype=np.float32)\n",
        "test_img = np.array(test_img.reshape(-1, 28 * 28)/255.0, dtype=np.float32)\n",
        "\n",
        "# Kiểm tra kích thước sau khi làm phẳng\n",
        "print(\"Flattened train images shape:\", train_img.shape)  # (60000, 784)\n",
        "print(\"Flattened test images shape:\", test_img.shape)    # (10000, 784)\n"
      ],
      "metadata": {
        "id": "4teIwdWW2SbN",
        "colab": {
          "base_uri": "https://localhost:8080/"
        },
        "outputId": "54982351-3a40-4751-defb-409d39c77f1e"
      },
      "execution_count": 5,
      "outputs": [
        {
          "output_type": "stream",
          "name": "stdout",
          "text": [
            "Flattened train images shape: (60000, 784)\n",
            "Flattened test images shape: (10000, 784)\n"
          ]
        }
      ]
    },
    {
      "cell_type": "code",
      "source": [
        "'''from tensorflow.keras.utils import to_categorical\n",
        "train_label = to_categorical(train_label, num_classes=10).astype(np.float32)\n",
        "test_label = to_categorical(test_label, num_classes=10).astype(np.float32)\n",
        "# Kiểm tra kích thước sau khi one-hot encoding\n",
        "print(\"One-hot encoded train labels shape:\", train_label.shape)  # (60000, 10)\n",
        "print(\"One-hot encoded test labels shape:\", test_label.shape)    # (10000, 10)\n",
        "'''\n",
        "train_label = np.array(train_label, dtype=np.int32)\n",
        "test_label = np.array(test_label, dtype=np.int32)\n"
      ],
      "metadata": {
        "id": "BzW_QBQ222mH"
      },
      "execution_count": 6,
      "outputs": []
    },
    {
      "cell_type": "code",
      "source": [
        "# Lưu tập dữ liệu huấn luyện và nhãn thành tệp nhị phân\n",
        "\n",
        "train_img.tofile(\"x_train.bin\")\n",
        "train_label.tofile( \"y_train.bin\")\n",
        "\n",
        "# Lưu tập dữ liệu kiểm tra và nhãn thành tệp nhị phân\n",
        "test_img.tofile(\"x_test.bin\")\n",
        "test_label.tofile(\"y_test.bin\")\n",
        "\n",
        "print(\"Data saved successfully!\")"
      ],
      "metadata": {
        "id": "MbzsI8oIF2-B",
        "colab": {
          "base_uri": "https://localhost:8080/"
        },
        "outputId": "a12ca2f1-5be6-4bff-eb8a-a292ad0c4408"
      },
      "execution_count": 7,
      "outputs": [
        {
          "output_type": "stream",
          "name": "stdout",
          "text": [
            "Data saved successfully!\n"
          ]
        }
      ]
    },
    {
      "cell_type": "code",
      "source": [
        "import gdown\n",
        "\n",
        "# ID của tệp Google Drive\n",
        "file_ids = [\n",
        "    \"1QM7e-rngKLvQWHBB2Tx6Ib9q1mf9aS6z\",\n",
        "    \"19gx53eEphbOCCHI8-37wPNcNSrTVTP0l\"\n",
        "]\n",
        "\n",
        "# Đường dẫn lưu trữ tệp tải về\n",
        "output_files = [\"network_host.cu\", \"network_gpu.cu\"]  # Đổi tên file theo ý muốn\n",
        "\n",
        "# Tải xuống từng tệp\n",
        "for file_id, output in zip(file_ids, output_files):\n",
        "    gdown.download(f\"https://drive.google.com/uc?id={file_id}\", output, quiet=False)\n",
        "\n",
        "print(\"Tải xuống hoàn tất!\")"
      ],
      "metadata": {
        "colab": {
          "base_uri": "https://localhost:8080/"
        },
        "id": "cnx6Ze66AmEz",
        "outputId": "3c5dbdf2-ff13-4eb6-a142-ce90767327c7"
      },
      "execution_count": 16,
      "outputs": [
        {
          "output_type": "stream",
          "name": "stderr",
          "text": [
            "Downloading...\n",
            "From: https://drive.google.com/uc?id=1QM7e-rngKLvQWHBB2Tx6Ib9q1mf9aS6z\n",
            "To: /content/network_host.cu\n",
            "100%|██████████| 15.7k/15.7k [00:00<00:00, 26.9MB/s]\n",
            "Downloading...\n",
            "From: https://drive.google.com/uc?id=19gx53eEphbOCCHI8-37wPNcNSrTVTP0l\n",
            "To: /content/network_gpu.cu\n",
            "100%|██████████| 16.3k/16.3k [00:00<00:00, 26.5MB/s]"
          ]
        },
        {
          "output_type": "stream",
          "name": "stdout",
          "text": [
            "Tải xuống hoàn tất!\n"
          ]
        },
        {
          "output_type": "stream",
          "name": "stderr",
          "text": [
            "\n"
          ]
        }
      ]
    },
    {
      "cell_type": "markdown",
      "source": [],
      "metadata": {
        "id": "Dm5_yfb7GAXB"
      }
    },
    {
      "cell_type": "code",
      "source": [
        "!nvcc  network_host.cu -o host"
      ],
      "metadata": {
        "id": "g0bhQ8Zwi8Ub"
      },
      "execution_count": 62,
      "outputs": []
    },
    {
      "cell_type": "code",
      "source": [
        "!./host"
      ],
      "metadata": {
        "id": "DvaERzCNj8Jv",
        "colab": {
          "base_uri": "https://localhost:8080/"
        },
        "outputId": "f1167898-b47b-49d1-bb14-fdc11d446f03"
      },
      "execution_count": 63,
      "outputs": [
        {
          "output_type": "stream",
          "name": "stdout",
          "text": [
            "Epoch 1/10 completed, Loss: 6.6636, Accuracy: 42.60%\n",
            "    Layer 1 time: 13.298974 seconds\n",
            "    Layer 2 time: 2.057436 seconds\n",
            "    Output layer time: 0.150705 seconds\n",
            "Epoch 2/10 completed, Loss: 3.1998, Accuracy: 70.81%\n",
            "    Layer 1 time: 14.096828 seconds\n",
            "    Layer 2 time: 2.179136 seconds\n",
            "    Output layer time: 0.160763 seconds\n",
            "Epoch 3/10 completed, Loss: 2.5338, Accuracy: 77.74%\n",
            "    Layer 1 time: 13.202720 seconds\n",
            "    Layer 2 time: 2.050132 seconds\n",
            "    Output layer time: 0.150409 seconds\n",
            "Epoch 4/10 completed, Loss: 2.4620, Accuracy: 79.19%\n",
            "    Layer 1 time: 13.287684 seconds\n",
            "    Layer 2 time: 2.061629 seconds\n",
            "    Output layer time: 0.151383 seconds\n",
            "Epoch 5/10 completed, Loss: 2.6761, Accuracy: 79.81%\n",
            "    Layer 1 time: 14.107110 seconds\n",
            "    Layer 2 time: 2.175911 seconds\n",
            "    Output layer time: 0.160535 seconds\n",
            "Epoch 6/10 completed, Loss: 2.7005, Accuracy: 80.17%\n",
            "    Layer 1 time: 13.225170 seconds\n",
            "    Layer 2 time: 2.057537 seconds\n",
            "    Output layer time: 0.151182 seconds\n",
            "Epoch 7/10 completed, Loss: 2.8104, Accuracy: 81.02%\n",
            "    Layer 1 time: 13.352363 seconds\n",
            "    Layer 2 time: 2.067159 seconds\n",
            "    Output layer time: 0.152892 seconds\n",
            "Epoch 8/10 completed, Loss: 2.7204, Accuracy: 81.32%\n",
            "    Layer 1 time: 13.949477 seconds\n",
            "    Layer 2 time: 2.158154 seconds\n",
            "    Output layer time: 0.159136 seconds\n",
            "Epoch 9/10 completed, Loss: 2.3779, Accuracy: 83.11%\n",
            "    Layer 1 time: 13.218678 seconds\n",
            "    Layer 2 time: 2.049417 seconds\n",
            "    Output layer time: 0.150522 seconds\n",
            "Epoch 10/10 completed, Loss: 2.3318, Accuracy: 82.71%\n",
            "    Layer 1 time: 13.720366 seconds\n",
            "    Layer 2 time: 2.125225 seconds\n",
            "    Output layer time: 0.156972 seconds\n",
            "Test Accuracy: 82.00%\n"
          ]
        }
      ]
    },
    {
      "cell_type": "markdown",
      "source": [],
      "metadata": {
        "id": "S6bqA3ArZHTg"
      }
    },
    {
      "cell_type": "code",
      "source": [
        "!nvcc  network_gpu.cu -o gpu"
      ],
      "metadata": {
        "id": "MrqgLc0dZHbr"
      },
      "execution_count": 64,
      "outputs": []
    },
    {
      "cell_type": "code",
      "source": [
        "!./gpu"
      ],
      "metadata": {
        "colab": {
          "base_uri": "https://localhost:8080/"
        },
        "id": "W2f6EPKZZQd4",
        "outputId": "da45d42f-4574-4093-ca06-c154a33222ff"
      },
      "execution_count": 65,
      "outputs": [
        {
          "output_type": "stream",
          "name": "stdout",
          "text": [
            "Epoch 1/10 completed, Loss: 6.8752, Accuracy: 40.74%\n",
            "    Layer 1 time: 13.243153 seconds\n",
            "    Layer 2 time: 2.044710 seconds\n",
            "    Output layer time: 0.149217 seconds\n",
            "Epoch 2/10 completed, Loss: 3.2806, Accuracy: 70.81%\n",
            "    Layer 1 time: 13.529489 seconds\n",
            "    Layer 2 time: 2.088448 seconds\n",
            "    Output layer time: 0.153124 seconds\n",
            "Epoch 3/10 completed, Loss: 2.5543, Accuracy: 77.13%\n",
            "    Layer 1 time: 13.825673 seconds\n",
            "    Layer 2 time: 2.127921 seconds\n",
            "    Output layer time: 0.156606 seconds\n",
            "Epoch 4/10 completed, Loss: 2.2938, Accuracy: 80.08%\n",
            "    Layer 1 time: 13.220439 seconds\n",
            "    Layer 2 time: 2.035174 seconds\n",
            "    Output layer time: 0.149464 seconds\n",
            "Epoch 5/10 completed, Loss: 1.9602, Accuracy: 82.31%\n",
            "    Layer 1 time: 13.698728 seconds\n",
            "    Layer 2 time: 2.107469 seconds\n",
            "    Output layer time: 0.155804 seconds\n",
            "Epoch 6/10 completed, Loss: 1.8130, Accuracy: 83.21%\n",
            "    Layer 1 time: 13.554453 seconds\n",
            "    Layer 2 time: 2.082707 seconds\n",
            "    Output layer time: 0.152850 seconds\n",
            "Epoch 7/10 completed, Loss: 1.6744, Accuracy: 84.31%\n",
            "    Layer 1 time: 13.204629 seconds\n",
            "    Layer 2 time: 2.036542 seconds\n",
            "    Output layer time: 0.149930 seconds\n",
            "Epoch 8/10 completed, Loss: 1.9551, Accuracy: 83.29%\n",
            "    Layer 1 time: 13.957416 seconds\n",
            "    Layer 2 time: 2.141410 seconds\n",
            "    Output layer time: 0.158376 seconds\n",
            "Epoch 9/10 completed, Loss: 2.1391, Accuracy: 82.68%\n",
            "    Layer 1 time: 13.358783 seconds\n",
            "    Layer 2 time: 2.064609 seconds\n",
            "    Output layer time: 0.151306 seconds\n",
            "Epoch 10/10 completed, Loss: 2.1075, Accuracy: 83.27%\n",
            "    Layer 1 time: 13.163406 seconds\n",
            "    Layer 2 time: 2.033412 seconds\n",
            "    Output layer time: 0.149674 seconds\n",
            "Test Accuracy: 79.20%\n"
          ]
        }
      ]
    },
    {
      "cell_type": "code",
      "source": [
        "!nvcc  a.cu -o a"
      ],
      "metadata": {
        "id": "dLPZyFeJeaAH"
      },
      "execution_count": 31,
      "outputs": []
    },
    {
      "cell_type": "code",
      "source": [
        "!./a"
      ],
      "metadata": {
        "colab": {
          "base_uri": "https://localhost:8080/"
        },
        "id": "QBKNm5BzeaFq",
        "outputId": "33deb3bd-4df2-4ae6-ff21-f0763d9619df"
      },
      "execution_count": 32,
      "outputs": [
        {
          "output_type": "stream",
          "name": "stdout",
          "text": [
            "Kết quả từ phương pháp 1:\n",
            "269.000000 239.000000 0.000000 0.000000 349.000000 \n",
            "0.000000 244.000000 390.000000 322.000000 0.000000 \n",
            "0.000000 226.000000 407.000000 0.000000 357.000000 \n",
            "\n",
            "Kết quả từ phương pháp 2:\n",
            "269.000000 239.000000 0.000000 0.000000 349.000000 \n",
            "0.000000 244.000000 390.000000 322.000000 0.000000 \n",
            "0.000000 226.000000 407.000000 0.000000 357.000000 \n"
          ]
        }
      ]
    },
    {
      "cell_type": "code",
      "source": [
        "from tensorflow.keras.models import Sequential\n",
        "from tensorflow.keras.layers import Dense, Flatten\n",
        "from tensorflow.keras.optimizers import Adam\n",
        "#Tạo mô hình ANN\n",
        "model = tf.keras.models.Sequential()"
      ],
      "metadata": {
        "id": "bH4RiP42JXUu"
      },
      "execution_count": 11,
      "outputs": []
    },
    {
      "cell_type": "code",
      "source": [
        "from tensorflow.keras.utils import to_categorical\n",
        "train_label = to_categorical(train_label, num_classes=10).astype(np.float32)\n",
        "test_label = to_categorical(test_label, num_classes=10).astype(np.float32)\n",
        "# Kiểm tra kích thước sau khi one-hot encoding\n",
        "print(\"One-hot encoded train labels shape:\", train_label.shape)  # (60000, 10)\n",
        "print(\"One-hot encoded test labels shape:\", test_label.shape)    # (10000, 10)\n"
      ],
      "metadata": {
        "colab": {
          "base_uri": "https://localhost:8080/"
        },
        "id": "s8Y47gO0fS9Z",
        "outputId": "c038d070-8ab9-4ba6-d89e-cef7b13a4a78"
      },
      "execution_count": 12,
      "outputs": [
        {
          "output_type": "stream",
          "name": "stdout",
          "text": [
            "One-hot encoded train labels shape: (60000, 10)\n",
            "One-hot encoded test labels shape: (10000, 10)\n"
          ]
        }
      ]
    },
    {
      "cell_type": "code",
      "source": [
        "# Hiển thị tóm tắt mô hình\n",
        "model.summary()"
      ],
      "metadata": {
        "id": "szhvAE6kahbq",
        "colab": {
          "base_uri": "https://localhost:8080/",
          "height": 162
        },
        "outputId": "a096e49d-c4fb-4367-cfac-a1854b1c7893"
      },
      "execution_count": 13,
      "outputs": [
        {
          "output_type": "display_data",
          "data": {
            "text/plain": [
              "\u001b[1mModel: \"sequential\"\u001b[0m\n"
            ],
            "text/html": [
              "<pre style=\"white-space:pre;overflow-x:auto;line-height:normal;font-family:Menlo,'DejaVu Sans Mono',consolas,'Courier New',monospace\"><span style=\"font-weight: bold\">Model: \"sequential\"</span>\n",
              "</pre>\n"
            ]
          },
          "metadata": {}
        },
        {
          "output_type": "display_data",
          "data": {
            "text/plain": [
              "┏━━━━━━━━━━━━━━━━━━━━━━━━━━━━━━━━━━━━━━┳━━━━━━━━━━━━━━━━━━━━━━━━━━━━━┳━━━━━━━━━━━━━━━━━┓\n",
              "┃\u001b[1m \u001b[0m\u001b[1mLayer (type)                        \u001b[0m\u001b[1m \u001b[0m┃\u001b[1m \u001b[0m\u001b[1mOutput Shape               \u001b[0m\u001b[1m \u001b[0m┃\u001b[1m \u001b[0m\u001b[1m        Param #\u001b[0m\u001b[1m \u001b[0m┃\n",
              "┡━━━━━━━━━━━━━━━━━━━━━━━━━━━━━━━━━━━━━━╇━━━━━━━━━━━━━━━━━━━━━━━━━━━━━╇━━━━━━━━━━━━━━━━━┩\n",
              "└──────────────────────────────────────┴─────────────────────────────┴─────────────────┘\n"
            ],
            "text/html": [
              "<pre style=\"white-space:pre;overflow-x:auto;line-height:normal;font-family:Menlo,'DejaVu Sans Mono',consolas,'Courier New',monospace\">┏━━━━━━━━━━━━━━━━━━━━━━━━━━━━━━━━━━━━━━┳━━━━━━━━━━━━━━━━━━━━━━━━━━━━━┳━━━━━━━━━━━━━━━━━┓\n",
              "┃<span style=\"font-weight: bold\"> Layer (type)                         </span>┃<span style=\"font-weight: bold\"> Output Shape                </span>┃<span style=\"font-weight: bold\">         Param # </span>┃\n",
              "┡━━━━━━━━━━━━━━━━━━━━━━━━━━━━━━━━━━━━━━╇━━━━━━━━━━━━━━━━━━━━━━━━━━━━━╇━━━━━━━━━━━━━━━━━┩\n",
              "└──────────────────────────────────────┴─────────────────────────────┴─────────────────┘\n",
              "</pre>\n"
            ]
          },
          "metadata": {}
        },
        {
          "output_type": "display_data",
          "data": {
            "text/plain": [
              "\u001b[1m Total params: \u001b[0m\u001b[38;5;34m0\u001b[0m (0.00 B)\n"
            ],
            "text/html": [
              "<pre style=\"white-space:pre;overflow-x:auto;line-height:normal;font-family:Menlo,'DejaVu Sans Mono',consolas,'Courier New',monospace\"><span style=\"font-weight: bold\"> Total params: </span><span style=\"color: #00af00; text-decoration-color: #00af00\">0</span> (0.00 B)\n",
              "</pre>\n"
            ]
          },
          "metadata": {}
        },
        {
          "output_type": "display_data",
          "data": {
            "text/plain": [
              "\u001b[1m Trainable params: \u001b[0m\u001b[38;5;34m0\u001b[0m (0.00 B)\n"
            ],
            "text/html": [
              "<pre style=\"white-space:pre;overflow-x:auto;line-height:normal;font-family:Menlo,'DejaVu Sans Mono',consolas,'Courier New',monospace\"><span style=\"font-weight: bold\"> Trainable params: </span><span style=\"color: #00af00; text-decoration-color: #00af00\">0</span> (0.00 B)\n",
              "</pre>\n"
            ]
          },
          "metadata": {}
        },
        {
          "output_type": "display_data",
          "data": {
            "text/plain": [
              "\u001b[1m Non-trainable params: \u001b[0m\u001b[38;5;34m0\u001b[0m (0.00 B)\n"
            ],
            "text/html": [
              "<pre style=\"white-space:pre;overflow-x:auto;line-height:normal;font-family:Menlo,'DejaVu Sans Mono',consolas,'Courier New',monospace\"><span style=\"font-weight: bold\"> Non-trainable params: </span><span style=\"color: #00af00; text-decoration-color: #00af00\">0</span> (0.00 B)\n",
              "</pre>\n"
            ]
          },
          "metadata": {}
        }
      ]
    },
    {
      "cell_type": "code",
      "source": [
        "# Tạo mô hình ANN\n",
        "model = tf.keras.Sequential([\n",
        "    tf.keras.layers.Input(shape=(784,)),                # Lớp đầu vào (Flatten đã được thực hiện)\n",
        "    tf.keras.layers.Dense(128, activation='relu'),      # Lớp ẩn thứ nhất\n",
        "    tf.keras.layers.Dense(128, activation='relu'),       # Lớp ẩn thứ hai\n",
        "    tf.keras.layers.Dense(10, activation='softmax')     # Lớp đầu ra\n",
        "])"
      ],
      "metadata": {
        "id": "PU2_fQxrV3mn"
      },
      "execution_count": 14,
      "outputs": []
    },
    {
      "cell_type": "code",
      "source": [
        "# Compile mô hình\n",
        "model.compile(optimizer='adam',\n",
        "              loss='categorical_crossentropy',\n",
        "              metrics=['accuracy'])\n",
        "\n",
        "# Huấn luyện mô hình\n",
        "history = model.fit(train_img, train_label, validation_data=(test_img, test_label), epochs=10, batch_size=32)\n",
        "\n",
        "# Đánh giá mô hình\n",
        "test_loss, test_accuracy = model.evaluate(test_img, test_label)\n",
        "print(\"Test Loss:\", test_loss)\n",
        "print(\"Test Accuracy:\", test_accuracy)\n",
        "\n",
        "# Vẽ đồ thị quá trình huấn luyện\n",
        "plt.plot(history.history['accuracy'], label='Train Accuracy')\n",
        "plt.plot(history.history['val_accuracy'], label='Validation Accuracy')\n",
        "plt.xlabel('Epochs')\n",
        "plt.ylabel('Accuracy')\n",
        "plt.legend()\n",
        "plt.show()"
      ],
      "metadata": {
        "id": "LQ4WjM0bao8-",
        "colab": {
          "base_uri": "https://localhost:8080/",
          "height": 888
        },
        "outputId": "3ec28d84-dfae-4db7-f225-370483218916"
      },
      "execution_count": 15,
      "outputs": [
        {
          "output_type": "stream",
          "name": "stdout",
          "text": [
            "Epoch 1/10\n",
            "\u001b[1m1875/1875\u001b[0m \u001b[32m━━━━━━━━━━━━━━━━━━━━\u001b[0m\u001b[37m\u001b[0m \u001b[1m11s\u001b[0m 5ms/step - accuracy: 0.7827 - loss: 0.6150 - val_accuracy: 0.8499 - val_loss: 0.4172\n",
            "Epoch 2/10\n",
            "\u001b[1m1875/1875\u001b[0m \u001b[32m━━━━━━━━━━━━━━━━━━━━\u001b[0m\u001b[37m\u001b[0m \u001b[1m7s\u001b[0m 4ms/step - accuracy: 0.8628 - loss: 0.3724 - val_accuracy: 0.8631 - val_loss: 0.3776\n",
            "Epoch 3/10\n",
            "\u001b[1m1875/1875\u001b[0m \u001b[32m━━━━━━━━━━━━━━━━━━━━\u001b[0m\u001b[37m\u001b[0m \u001b[1m9s\u001b[0m 5ms/step - accuracy: 0.8781 - loss: 0.3308 - val_accuracy: 0.8675 - val_loss: 0.3694\n",
            "Epoch 4/10\n",
            "\u001b[1m1875/1875\u001b[0m \u001b[32m━━━━━━━━━━━━━━━━━━━━\u001b[0m\u001b[37m\u001b[0m \u001b[1m9s\u001b[0m 4ms/step - accuracy: 0.8871 - loss: 0.3064 - val_accuracy: 0.8659 - val_loss: 0.3589\n",
            "Epoch 5/10\n",
            "\u001b[1m1875/1875\u001b[0m \u001b[32m━━━━━━━━━━━━━━━━━━━━\u001b[0m\u001b[37m\u001b[0m \u001b[1m8s\u001b[0m 4ms/step - accuracy: 0.8932 - loss: 0.2859 - val_accuracy: 0.8759 - val_loss: 0.3451\n",
            "Epoch 6/10\n",
            "\u001b[1m1875/1875\u001b[0m \u001b[32m━━━━━━━━━━━━━━━━━━━━\u001b[0m\u001b[37m\u001b[0m \u001b[1m11s\u001b[0m 5ms/step - accuracy: 0.8959 - loss: 0.2734 - val_accuracy: 0.8780 - val_loss: 0.3485\n",
            "Epoch 7/10\n",
            "\u001b[1m1875/1875\u001b[0m \u001b[32m━━━━━━━━━━━━━━━━━━━━\u001b[0m\u001b[37m\u001b[0m \u001b[1m10s\u001b[0m 5ms/step - accuracy: 0.9014 - loss: 0.2586 - val_accuracy: 0.8775 - val_loss: 0.3431\n",
            "Epoch 8/10\n",
            "\u001b[1m1875/1875\u001b[0m \u001b[32m━━━━━━━━━━━━━━━━━━━━\u001b[0m\u001b[37m\u001b[0m \u001b[1m7s\u001b[0m 4ms/step - accuracy: 0.9050 - loss: 0.2509 - val_accuracy: 0.8805 - val_loss: 0.3322\n",
            "Epoch 9/10\n",
            "\u001b[1m1875/1875\u001b[0m \u001b[32m━━━━━━━━━━━━━━━━━━━━\u001b[0m\u001b[37m\u001b[0m \u001b[1m9s\u001b[0m 5ms/step - accuracy: 0.9079 - loss: 0.2439 - val_accuracy: 0.8870 - val_loss: 0.3371\n",
            "Epoch 10/10\n",
            "\u001b[1m1875/1875\u001b[0m \u001b[32m━━━━━━━━━━━━━━━━━━━━\u001b[0m\u001b[37m\u001b[0m \u001b[1m7s\u001b[0m 4ms/step - accuracy: 0.9115 - loss: 0.2287 - val_accuracy: 0.8863 - val_loss: 0.3342\n",
            "\u001b[1m313/313\u001b[0m \u001b[32m━━━━━━━━━━━━━━━━━━━━\u001b[0m\u001b[37m\u001b[0m \u001b[1m1s\u001b[0m 2ms/step - accuracy: 0.8870 - loss: 0.3296\n",
            "Test Loss: 0.334215372800827\n",
            "Test Accuracy: 0.8863000273704529\n"
          ]
        },
        {
          "output_type": "display_data",
          "data": {
            "text/plain": [
              "<Figure size 640x480 with 1 Axes>"
            ],
            "image/png": "[encoded data removed]"
          },
          "metadata": {}
        }
      ]
    }
  ]
}